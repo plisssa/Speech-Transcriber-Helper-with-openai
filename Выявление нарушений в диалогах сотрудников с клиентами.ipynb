{
  "cells": [
    {
      "cell_type": "markdown",
      "metadata": {
        "id": "xPSvoBVguC1A"
      },
      "source": [
        "\n",
        "\n",
        "Выявление нарушений в диалогах сотрудников с клиентами\n"
      ]
    },
    {
      "cell_type": "code",
      "execution_count": null,
      "metadata": {
        "id": "UXigFefQx1wi"
      },
      "outputs": [],
      "source": [
        "import json\n",
        "\n",
        "def process_file(filename):\n",
        "    with open(filename, 'r', encoding='utf-8') as file:\n",
        "        data = json.load(file)\n",
        "\n",
        "    dialogue = {\"c1\": data[\"c1\"], \"c2\": data[\"c2\"]}\n",
        "    return dialogue\n",
        "\n",
        "if __name__ == \"__main__\":\n",
        "    filename = \"/content/external-343-79775640401-20230418-165416-1681826056.8729.txt\"\n",
        "    dialogue = process_file(filename)\n"
      ]
    },
    {
      "cell_type": "code",
      "execution_count": null,
      "metadata": {
        "colab": {
          "base_uri": "https://localhost:8080/"
        },
        "id": "VssKNkOMyTq3",
        "outputId": "fa8e1e8b-0181-450c-e19e-7e16766d8ac6"
      },
      "outputs": [
        {
          "name": "stdout",
          "output_type": "stream",
          "text": [
            "{'c1': [{'start': 4.6, 'stop': 49.40000000000043, 'text': 'добрый день дмитрий хотел воссоздать я дословно восславят вот если получается закончил техникум по специальности одиннадцать два ноля восемь вас пункт такая же есть что-то как-то одиннадцать ноль три ну давай там с информацией да вот я зашёл в экзамена ну вот ну вот там же вас вступительные правильно понимаю вот и там писано что я спальне потом типа если я иду на заочку на платно вот там у вас написано что русские назад на отрицать баллов математика на десять и фанатика на десять баллов вот я хотел что узнать то есть получается вот когда я бы получается типа вот все как у вас сайт ну вот и больше логичность получается я уже автоматически зачислены или как'}, {'start': 55.70000000000052, 'stop': 56.20000000000053, 'text': 'отмечается'}, {'start': 65.80000000000054, 'stop': 72.90000000000013, 'text': 'вот именно по поводу баллов то случается эти потому что все что написано на сайте вот этот минимальной баллы мне надо набрать'}, {'start': 83.19999999999955, 'stop': 85.39999999999942, 'text': 'ускоренная вода'}, {'start': 89.49999999999919, 'stop': 89.89999999999917, 'text': 'двести'}, {'start': 98.49999999999868, 'stop': 112.79999999999787, 'text': 'три шесть три шесть три пять да да да так что все знаете я вот посмотрел там вас примера ездить действительно когда-то там обучается по десять да ведь для по десять дальних или нет'}, {'start': 115.6999999999977, 'stop': 122.89999999999729, 'text': 'ну я смотрел да я слышал там типа русский десять математика десять информатика десять там тебе видения по десять да'}, {'start': 129.8999999999969, 'stop': 133.89999999999668, 'text': 'профи достучаться я поставить профиль на математику вот ну'}, {'start': 136.9999999999965, 'stop': 138.09999999999644, 'text': 'да да я смотрю'}, {'start': 141.29999999999626, 'stop': 143.09999999999616, 'text': 'ветром в телефоне'}, {'start': 153.39999999999557, 'stop': 158.99999999999525, 'text': 'вас там пример если вас там ниже пример вот эта математика русский вот это вот тебе пример который будет или нет'}, {'start': 173.19999999999445, 'stop': 183.39999999999387, 'text': 'мне просто я так оценки подавайте от десяти заданиях что у вас примет все логотипы там сорок что-то тем а как там есть и исключается будет по десять заданий да'}, {'start': 185.19999999999376, 'stop': 193.69999999999328, 'text': 'спальня правда упадёт всегда они типа там десять ип русские десять математика и информатика и каждое задание ценится в какое-то количество баллов'}, {'start': 199.09999999999297, 'stop': 200.1999999999929, 'text': 'вот мне сказали что они будут'}, {'start': 206.39999999999256, 'stop': 211.69999999999226, 'text': 'но я в приёмной звонил вот в марте обходил документ подвал мне сказали что нибудь из нас'}, {'start': 215.69999999999203, 'stop': 220.09999999999178, 'text': 'да да да да мне сказали вложений не будет искать что она была в том году в этом не будет'}, {'start': 222.49999999999164, 'stop': 222.89999999999162, 'text': 'да'}, {'start': 263.8999999999915, 'stop': 265.999999999992, 'text': ''}, {'start': 275.09999999999405, 'stop': 275.7999999999942, 'text': ''}, {'start': 301.7000000000001, 'stop': 302.1000000000002, 'text': 'да'}, {'start': 310.6000000000021, 'stop': 312.3000000000025, 'text': 'от очага собака'}, {'start': 313.9000000000029, 'stop': 319.3000000000041, 'text': 'ну я понял после типа по тем же делом которое вот кто первый день затем'}, {'start': 321.4000000000046, 'stop': 335.1000000000077, 'text': 'понял понял все так всех сказать о два же копаетесь дистанционно это все сдаёт в этом про кто кандидатов которые которая выглядит да'}, {'start': 338.90000000000856, 'stop': 353.80000000001195, 'text': 'сейчас места какое-то время расскажешь датская там дауни долга а вот вот такое получается если это все дело на платформе это все видят и ты аж правильно понимаю мне обучают надо будет туда'}, {'start': 355.60000000001236, 'stop': 360.80000000001354, 'text': 'да да я я говорю это получается будет на ваш платформе и все видят теста да'}, {'start': 362.60000000001395, 'stop': 369.60000000001554, 'text': 'то есть это и математика и информатика а вот именно вам нужны сами ответы или как я решил тоже важно'}, {'start': 374.10000000001656, 'stop': 390.80000000002036, 'text': 'я да она вообще надо или комнате комнате потому себя в черновике описать пост я читал про эту программу что за всем следит то есть это злонравия я живу там сочту чердаке как как-то типа все решения а именно ваш уже тест я вписываю готовы значение окончательно'}, {'start': 412.4000000000253, 'stop': 412.9000000000254, 'text': 'понял'}, {'start': 416.4000000000262, 'stop': 418.8000000000267, 'text': 'ну то есть это вам надо так там перешёл'}, {'start': 469.8000000000383, 'stop': 479.9000000000406, 'text': 'пожалуйста оставайтесь на линии через некоторое время вы сможете продолжить разговор плиз холд он фо э вайл югол бы эйбел ты как её так эдвардса и шансон'}, {'start': 536.5000000000534, 'stop': 546.2000000000556, 'text': 'оставайтесь на линии через некоторое время вы сможете продолжить разговор плиз холд он фо э вайл югол бы эйбел ты тут её догадывался и су'}], 'c2': [{'start': 0.6, 'stop': 4.000000000000002, 'text': 'добрый день университетом то есть у меня зовут так как ему к вам обращаться'}, {'start': 22.700000000000053, 'stop': 23.10000000000006, 'text': ''}, {'start': 51.000000000000455, 'stop': 64.7000000000006, 'text': 'если вы набрали проходные баллы и поступайте на платное обучение то вы зачислены то ныне не то не зачислен вам нужно будет ещё заключить договор произвести оплату и вот тогда вы будете зачислены уже закрепите за своё место'}, {'start': 74.20000000000006, 'stop': 100.39999999999857, 'text': 'и ещё вот вы поскольку сказать что учились на направление плановый восемь в колледже вы можете поступить на платную заочно заочное обучение и да ещё ускоренную за очень у сколь заочно это этого на обычно по заочной поступать на палатку и потом уже когда поступите в сети без подачи заявления на сокращение по г на основании дипломы и будете учиться не пять это три с половиной года да'}, {'start': 112.1999999999979, 'stop': 115.89999999999769, 'text': 'там да получается вот вы демонстрационный от коч варианты'}, {'start': 121.0999999999974, 'stop': 129.29999999999694, 'text': 'да да да только вам нужно будет знаете что выплат не общеобразовательные вступительные экзамены а именно профильные'}, {'start': 133.19999999999672, 'stop': 140.19999999999632, 'text': 'вот смотрите сейчас скажу вот вы когда посмотри расписание там вы сейчас за компьютером да'}, {'start': 143.59999999999613, 'stop': 153.89999999999554, 'text': 'анапа программы профильных вступительных испытаний тут есть информационных технологий программирования математика элементы теории вероятностей и русский язык есть примеры вот богами'}, {'start': 155.99999999999542, 'stop': 156.79999999999538, 'text': 'да да да'}, {'start': 159.29999999999524, 'stop': 173.19999999999445, 'text': 'это все полимеры которые доступны да а программу в программе расписаны тема которую необходимо знать чтобы сдать экзамен также будет приложена литературу по подготовить можно готовиться рекомендуемая'}, {'start': 195.79999999999316, 'stop': 198.699999999993, 'text': 'правильно только по русскому там ещё вот будет изложение'}, {'start': 201.29999999999285, 'stop': 206.69999999999254, 'text': 'подождите дмитрия сейчас уточню этот вопрос вам кто сказал это и иконоборческого'}, {'start': 213.69999999999214, 'stop': 216.69999999999197, 'text': 'тут естественного часто и сложения вот вижу'}, {'start': 220.59999999999175, 'stop': 223.2999999999916, 'text': 'сейчас у дмитрий пожалуйста проверьте полноте точно'}, {'start': 300.6999999999999, 'stop': 314.400000000003, 'text': 'спасибо за ожидание дмитрий я уточню да в этом году уже не будет изложением но вместо него будет всего двадцать вопрос то есть вопросы удваивается по тем же темам но не десять вопросов по двадцать по русскому языку'}, {'start': 332.30000000000706, 'stop': 337.60000000000827, 'text': 'на нашей платформе вам направят ссылку далеки сну ссылку на личный кабинет'}, {'start': 342.80000000000945, 'stop': 345.10000000000997, 'text': 'даст бы спустя два-три дня придёт'}, {'start': 353.30000000001183, 'stop': 355.4000000000123, 'text': 'площадь вас плохо было слышно можете повторить'}, {'start': 361.6000000000137, 'stop': 362.4000000000139, 'text': 'тесты да'}, {'start': 371.700000000016, 'stop': 373.7000000000165, 'text': 'имейте ввиду приложить решение да'}, {'start': 391.8000000000206, 'stop': 415.90000000002607, 'text': 'вам вышлют инструкцию подробную по именно экзамену нужно будет чтобы на камере было видно как вы решаете по поводу ваших листков черновиков это вот сейчас я вам не скажу точно нужно отправлять вот там будет виднее ближе к экзамену в инструкции написано если что вы вы сможете же сфотографировать и отправить'}, {'start': 421.0000000000272, 'stop': 424.0000000000279, 'text': 'сейчас я попробую узнать подождите'}, {'start': 457.8000000000356, 'stop': 463.70000000003694, 'text': 'пёс ожидание нет тогда черновики ненужный будут просто тесты всех русскому языку'}]}\n"
          ]
        }
      ],
      "source": [
        "print(dialogue)"
      ]
    },
    {
      "cell_type": "code",
      "execution_count": null,
      "metadata": {
        "colab": {
          "base_uri": "https://localhost:8080/"
        },
        "id": "_LaTJVpltoNG",
        "outputId": "05707fef-7287-40f0-ffcd-26675459e5c2"
      },
      "outputs": [
        {
          "name": "stdout",
          "output_type": "stream",
          "text": [
            "Collecting openai\n",
            "  Downloading openai-0.27.8-py3-none-any.whl (73 kB)\n",
            "\u001b[?25l     \u001b[90m━━━━━━━━━━━━━━━━━━━━━━━━━━━━━━━━━━━━━━━━\u001b[0m \u001b[32m0.0/73.6 kB\u001b[0m \u001b[31m?\u001b[0m eta \u001b[36m-:--:--\u001b[0m\r\u001b[2K     \u001b[90m━━━━━━━━━━━━━━━━━━━━━━━━━━━━━━━━━━━━━━━━\u001b[0m \u001b[32m73.6/73.6 kB\u001b[0m \u001b[31m2.7 MB/s\u001b[0m eta \u001b[36m0:00:00\u001b[0m\n",
            "\u001b[?25hRequirement already satisfied: requests>=2.20 in /usr/local/lib/python3.10/dist-packages (from openai) (2.27.1)\n",
            "Requirement already satisfied: tqdm in /usr/local/lib/python3.10/dist-packages (from openai) (4.65.0)\n",
            "Requirement already satisfied: aiohttp in /usr/local/lib/python3.10/dist-packages (from openai) (3.8.4)\n",
            "Requirement already satisfied: urllib3<1.27,>=1.21.1 in /usr/local/lib/python3.10/dist-packages (from requests>=2.20->openai) (1.26.16)\n",
            "Requirement already satisfied: certifi>=2017.4.17 in /usr/local/lib/python3.10/dist-packages (from requests>=2.20->openai) (2023.5.7)\n",
            "Requirement already satisfied: charset-normalizer~=2.0.0 in /usr/local/lib/python3.10/dist-packages (from requests>=2.20->openai) (2.0.12)\n",
            "Requirement already satisfied: idna<4,>=2.5 in /usr/local/lib/python3.10/dist-packages (from requests>=2.20->openai) (3.4)\n",
            "Requirement already satisfied: attrs>=17.3.0 in /usr/local/lib/python3.10/dist-packages (from aiohttp->openai) (23.1.0)\n",
            "Requirement already satisfied: multidict<7.0,>=4.5 in /usr/local/lib/python3.10/dist-packages (from aiohttp->openai) (6.0.4)\n",
            "Requirement already satisfied: async-timeout<5.0,>=4.0.0a3 in /usr/local/lib/python3.10/dist-packages (from aiohttp->openai) (4.0.2)\n",
            "Requirement already satisfied: yarl<2.0,>=1.0 in /usr/local/lib/python3.10/dist-packages (from aiohttp->openai) (1.9.2)\n",
            "Requirement already satisfied: frozenlist>=1.1.1 in /usr/local/lib/python3.10/dist-packages (from aiohttp->openai) (1.4.0)\n",
            "Requirement already satisfied: aiosignal>=1.1.2 in /usr/local/lib/python3.10/dist-packages (from aiohttp->openai) (1.3.1)\n",
            "Installing collected packages: openai\n",
            "Successfully installed openai-0.27.8\n"
          ]
        }
      ],
      "source": [
        "!pip install openai\n",
        "import openai\n",
        "\n",
        "\n",
        "api_key = \"\"\n",
        "openai.api_key = api_key"
      ]
    },
    {
      "cell_type": "code",
      "execution_count": null,
      "metadata": {
        "colab": {
          "base_uri": "https://localhost:8080/"
        },
        "id": "bRZbjeqR5h-E",
        "outputId": "a478c468-a11e-4119-e0e2-89b9c017df6c"
      },
      "outputs": [
        {
          "name": "stdout",
          "output_type": "stream",
          "text": [
            "Requirement already satisfied: spaCy in /usr/local/lib/python3.10/dist-packages (3.5.4)\n",
            "Requirement already satisfied: spacy-legacy<3.1.0,>=3.0.11 in /usr/local/lib/python3.10/dist-packages (from spaCy) (3.0.12)\n",
            "Requirement already satisfied: spacy-loggers<2.0.0,>=1.0.0 in /usr/local/lib/python3.10/dist-packages (from spaCy) (1.0.4)\n",
            "Requirement already satisfied: murmurhash<1.1.0,>=0.28.0 in /usr/local/lib/python3.10/dist-packages (from spaCy) (1.0.9)\n",
            "Requirement already satisfied: cymem<2.1.0,>=2.0.2 in /usr/local/lib/python3.10/dist-packages (from spaCy) (2.0.7)\n",
            "Requirement already satisfied: preshed<3.1.0,>=3.0.2 in /usr/local/lib/python3.10/dist-packages (from spaCy) (3.0.8)\n",
            "Requirement already satisfied: thinc<8.2.0,>=8.1.8 in /usr/local/lib/python3.10/dist-packages (from spaCy) (8.1.10)\n",
            "Requirement already satisfied: wasabi<1.2.0,>=0.9.1 in /usr/local/lib/python3.10/dist-packages (from spaCy) (1.1.2)\n",
            "Requirement already satisfied: srsly<3.0.0,>=2.4.3 in /usr/local/lib/python3.10/dist-packages (from spaCy) (2.4.7)\n",
            "Requirement already satisfied: catalogue<2.1.0,>=2.0.6 in /usr/local/lib/python3.10/dist-packages (from spaCy) (2.0.8)\n",
            "Requirement already satisfied: typer<0.10.0,>=0.3.0 in /usr/local/lib/python3.10/dist-packages (from spaCy) (0.9.0)\n",
            "Requirement already satisfied: pathy>=0.10.0 in /usr/local/lib/python3.10/dist-packages (from spaCy) (0.10.2)\n",
            "Requirement already satisfied: smart-open<7.0.0,>=5.2.1 in /usr/local/lib/python3.10/dist-packages (from spaCy) (6.3.0)\n",
            "Requirement already satisfied: tqdm<5.0.0,>=4.38.0 in /usr/local/lib/python3.10/dist-packages (from spaCy) (4.65.0)\n",
            "Requirement already satisfied: numpy>=1.15.0 in /usr/local/lib/python3.10/dist-packages (from spaCy) (1.22.4)\n",
            "Requirement already satisfied: requests<3.0.0,>=2.13.0 in /usr/local/lib/python3.10/dist-packages (from spaCy) (2.27.1)\n",
            "Requirement already satisfied: pydantic!=1.8,!=1.8.1,<1.11.0,>=1.7.4 in /usr/local/lib/python3.10/dist-packages (from spaCy) (1.10.11)\n",
            "Requirement already satisfied: jinja2 in /usr/local/lib/python3.10/dist-packages (from spaCy) (3.1.2)\n",
            "Requirement already satisfied: setuptools in /usr/local/lib/python3.10/dist-packages (from spaCy) (67.7.2)\n",
            "Requirement already satisfied: packaging>=20.0 in /usr/local/lib/python3.10/dist-packages (from spaCy) (23.1)\n",
            "Requirement already satisfied: langcodes<4.0.0,>=3.2.0 in /usr/local/lib/python3.10/dist-packages (from spaCy) (3.3.0)\n",
            "Requirement already satisfied: typing-extensions>=4.2.0 in /usr/local/lib/python3.10/dist-packages (from pydantic!=1.8,!=1.8.1,<1.11.0,>=1.7.4->spaCy) (4.7.1)\n",
            "Requirement already satisfied: urllib3<1.27,>=1.21.1 in /usr/local/lib/python3.10/dist-packages (from requests<3.0.0,>=2.13.0->spaCy) (1.26.16)\n",
            "Requirement already satisfied: certifi>=2017.4.17 in /usr/local/lib/python3.10/dist-packages (from requests<3.0.0,>=2.13.0->spaCy) (2023.5.7)\n",
            "Requirement already satisfied: charset-normalizer~=2.0.0 in /usr/local/lib/python3.10/dist-packages (from requests<3.0.0,>=2.13.0->spaCy) (2.0.12)\n",
            "Requirement already satisfied: idna<4,>=2.5 in /usr/local/lib/python3.10/dist-packages (from requests<3.0.0,>=2.13.0->spaCy) (3.4)\n",
            "Requirement already satisfied: blis<0.8.0,>=0.7.8 in /usr/local/lib/python3.10/dist-packages (from thinc<8.2.0,>=8.1.8->spaCy) (0.7.9)\n",
            "Requirement already satisfied: confection<1.0.0,>=0.0.1 in /usr/local/lib/python3.10/dist-packages (from thinc<8.2.0,>=8.1.8->spaCy) (0.1.0)\n",
            "Requirement already satisfied: click<9.0.0,>=7.1.1 in /usr/local/lib/python3.10/dist-packages (from typer<0.10.0,>=0.3.0->spaCy) (8.1.6)\n",
            "Requirement already satisfied: MarkupSafe>=2.0 in /usr/local/lib/python3.10/dist-packages (from jinja2->spaCy) (2.1.3)\n"
          ]
        }
      ],
      "source": [
        "!pip install spaCy"
      ]
    },
    {
      "cell_type": "code",
      "execution_count": null,
      "metadata": {
        "colab": {
          "base_uri": "https://localhost:8080/"
        },
        "id": "E2-k8iZu5xAz",
        "outputId": "8da66994-4270-46cb-c45a-7a526a90d975"
      },
      "outputs": [
        {
          "name": "stdout",
          "output_type": "stream",
          "text": [
            "2023-07-25 11:55:17.990824: W tensorflow/compiler/tf2tensorrt/utils/py_utils.cc:38] TF-TRT Warning: Could not find TensorRT\n",
            "Collecting ru-core-news-sm==3.5.0\n",
            "  Downloading https://github.com/explosion/spacy-models/releases/download/ru_core_news_sm-3.5.0/ru_core_news_sm-3.5.0-py3-none-any.whl (15.3 MB)\n",
            "\u001b[2K     \u001b[90m━━━━━━━━━━━━━━━━━━━━━━━━━━━━━━━━━━━━━━━━\u001b[0m \u001b[32m15.3/15.3 MB\u001b[0m \u001b[31m41.4 MB/s\u001b[0m eta \u001b[36m0:00:00\u001b[0m\n",
            "\u001b[?25hRequirement already satisfied: spacy<3.6.0,>=3.5.0 in /usr/local/lib/python3.10/dist-packages (from ru-core-news-sm==3.5.0) (3.5.4)\n",
            "Requirement already satisfied: pymorphy3>=1.0.0 in /usr/local/lib/python3.10/dist-packages (from ru-core-news-sm==3.5.0) (1.2.0)\n",
            "Requirement already satisfied: dawg-python>=0.7.1 in /usr/local/lib/python3.10/dist-packages (from pymorphy3>=1.0.0->ru-core-news-sm==3.5.0) (0.7.2)\n",
            "Requirement already satisfied: docopt>=0.6 in /usr/local/lib/python3.10/dist-packages (from pymorphy3>=1.0.0->ru-core-news-sm==3.5.0) (0.6.2)\n",
            "Requirement already satisfied: pymorphy3-dicts-ru in /usr/local/lib/python3.10/dist-packages (from pymorphy3>=1.0.0->ru-core-news-sm==3.5.0) (2.4.417150.4580142)\n",
            "Requirement already satisfied: spacy-legacy<3.1.0,>=3.0.11 in /usr/local/lib/python3.10/dist-packages (from spacy<3.6.0,>=3.5.0->ru-core-news-sm==3.5.0) (3.0.12)\n",
            "Requirement already satisfied: spacy-loggers<2.0.0,>=1.0.0 in /usr/local/lib/python3.10/dist-packages (from spacy<3.6.0,>=3.5.0->ru-core-news-sm==3.5.0) (1.0.4)\n",
            "Requirement already satisfied: murmurhash<1.1.0,>=0.28.0 in /usr/local/lib/python3.10/dist-packages (from spacy<3.6.0,>=3.5.0->ru-core-news-sm==3.5.0) (1.0.9)\n",
            "Requirement already satisfied: cymem<2.1.0,>=2.0.2 in /usr/local/lib/python3.10/dist-packages (from spacy<3.6.0,>=3.5.0->ru-core-news-sm==3.5.0) (2.0.7)\n",
            "Requirement already satisfied: preshed<3.1.0,>=3.0.2 in /usr/local/lib/python3.10/dist-packages (from spacy<3.6.0,>=3.5.0->ru-core-news-sm==3.5.0) (3.0.8)\n",
            "Requirement already satisfied: thinc<8.2.0,>=8.1.8 in /usr/local/lib/python3.10/dist-packages (from spacy<3.6.0,>=3.5.0->ru-core-news-sm==3.5.0) (8.1.10)\n",
            "Requirement already satisfied: wasabi<1.2.0,>=0.9.1 in /usr/local/lib/python3.10/dist-packages (from spacy<3.6.0,>=3.5.0->ru-core-news-sm==3.5.0) (1.1.2)\n",
            "Requirement already satisfied: srsly<3.0.0,>=2.4.3 in /usr/local/lib/python3.10/dist-packages (from spacy<3.6.0,>=3.5.0->ru-core-news-sm==3.5.0) (2.4.7)\n",
            "Requirement already satisfied: catalogue<2.1.0,>=2.0.6 in /usr/local/lib/python3.10/dist-packages (from spacy<3.6.0,>=3.5.0->ru-core-news-sm==3.5.0) (2.0.8)\n",
            "Requirement already satisfied: typer<0.10.0,>=0.3.0 in /usr/local/lib/python3.10/dist-packages (from spacy<3.6.0,>=3.5.0->ru-core-news-sm==3.5.0) (0.9.0)\n",
            "Requirement already satisfied: pathy>=0.10.0 in /usr/local/lib/python3.10/dist-packages (from spacy<3.6.0,>=3.5.0->ru-core-news-sm==3.5.0) (0.10.2)\n",
            "Requirement already satisfied: smart-open<7.0.0,>=5.2.1 in /usr/local/lib/python3.10/dist-packages (from spacy<3.6.0,>=3.5.0->ru-core-news-sm==3.5.0) (6.3.0)\n",
            "Requirement already satisfied: tqdm<5.0.0,>=4.38.0 in /usr/local/lib/python3.10/dist-packages (from spacy<3.6.0,>=3.5.0->ru-core-news-sm==3.5.0) (4.65.0)\n",
            "Requirement already satisfied: numpy>=1.15.0 in /usr/local/lib/python3.10/dist-packages (from spacy<3.6.0,>=3.5.0->ru-core-news-sm==3.5.0) (1.22.4)\n",
            "Requirement already satisfied: requests<3.0.0,>=2.13.0 in /usr/local/lib/python3.10/dist-packages (from spacy<3.6.0,>=3.5.0->ru-core-news-sm==3.5.0) (2.27.1)\n",
            "Requirement already satisfied: pydantic!=1.8,!=1.8.1,<1.11.0,>=1.7.4 in /usr/local/lib/python3.10/dist-packages (from spacy<3.6.0,>=3.5.0->ru-core-news-sm==3.5.0) (1.10.11)\n",
            "Requirement already satisfied: jinja2 in /usr/local/lib/python3.10/dist-packages (from spacy<3.6.0,>=3.5.0->ru-core-news-sm==3.5.0) (3.1.2)\n",
            "Requirement already satisfied: setuptools in /usr/local/lib/python3.10/dist-packages (from spacy<3.6.0,>=3.5.0->ru-core-news-sm==3.5.0) (67.7.2)\n",
            "Requirement already satisfied: packaging>=20.0 in /usr/local/lib/python3.10/dist-packages (from spacy<3.6.0,>=3.5.0->ru-core-news-sm==3.5.0) (23.1)\n",
            "Requirement already satisfied: langcodes<4.0.0,>=3.2.0 in /usr/local/lib/python3.10/dist-packages (from spacy<3.6.0,>=3.5.0->ru-core-news-sm==3.5.0) (3.3.0)\n",
            "Requirement already satisfied: typing-extensions>=4.2.0 in /usr/local/lib/python3.10/dist-packages (from pydantic!=1.8,!=1.8.1,<1.11.0,>=1.7.4->spacy<3.6.0,>=3.5.0->ru-core-news-sm==3.5.0) (4.7.1)\n",
            "Requirement already satisfied: urllib3<1.27,>=1.21.1 in /usr/local/lib/python3.10/dist-packages (from requests<3.0.0,>=2.13.0->spacy<3.6.0,>=3.5.0->ru-core-news-sm==3.5.0) (1.26.16)\n",
            "Requirement already satisfied: certifi>=2017.4.17 in /usr/local/lib/python3.10/dist-packages (from requests<3.0.0,>=2.13.0->spacy<3.6.0,>=3.5.0->ru-core-news-sm==3.5.0) (2023.5.7)\n",
            "Requirement already satisfied: charset-normalizer~=2.0.0 in /usr/local/lib/python3.10/dist-packages (from requests<3.0.0,>=2.13.0->spacy<3.6.0,>=3.5.0->ru-core-news-sm==3.5.0) (2.0.12)\n",
            "Requirement already satisfied: idna<4,>=2.5 in /usr/local/lib/python3.10/dist-packages (from requests<3.0.0,>=2.13.0->spacy<3.6.0,>=3.5.0->ru-core-news-sm==3.5.0) (3.4)\n",
            "Requirement already satisfied: blis<0.8.0,>=0.7.8 in /usr/local/lib/python3.10/dist-packages (from thinc<8.2.0,>=8.1.8->spacy<3.6.0,>=3.5.0->ru-core-news-sm==3.5.0) (0.7.9)\n",
            "Requirement already satisfied: confection<1.0.0,>=0.0.1 in /usr/local/lib/python3.10/dist-packages (from thinc<8.2.0,>=8.1.8->spacy<3.6.0,>=3.5.0->ru-core-news-sm==3.5.0) (0.1.0)\n",
            "Requirement already satisfied: click<9.0.0,>=7.1.1 in /usr/local/lib/python3.10/dist-packages (from typer<0.10.0,>=0.3.0->spacy<3.6.0,>=3.5.0->ru-core-news-sm==3.5.0) (8.1.6)\n",
            "Requirement already satisfied: MarkupSafe>=2.0 in /usr/local/lib/python3.10/dist-packages (from jinja2->spacy<3.6.0,>=3.5.0->ru-core-news-sm==3.5.0) (2.1.3)\n",
            "Installing collected packages: ru-core-news-sm\n",
            "Successfully installed ru-core-news-sm-3.5.0\n",
            "\u001b[38;5;2m✔ Download and installation successful\u001b[0m\n",
            "You can now load the package via spacy.load('ru_core_news_sm')\n"
          ]
        }
      ],
      "source": [
        "!python -m spacy download ru_core_news_sm"
      ]
    },
    {
      "cell_type": "code",
      "execution_count": null,
      "metadata": {
        "colab": {
          "base_uri": "https://localhost:8080/"
        },
        "id": "LF7LujZV5bBR",
        "outputId": "4919ad8e-e5ef-49f6-cdff-ebb79a2f79c2"
      },
      "outputs": [
        {
          "name": "stdout",
          "output_type": "stream",
          "text": [
            "Сотрудник не поздоровался\n",
            "Сотрудник попрощался\n"
          ]
        }
      ],
      "source": [
        "import spacy\n",
        "\n",
        "nlp = spacy.load(\"ru_core_news_sm\")\n",
        "\n",
        "def analyze_dialogue(dialogue):\n",
        "    first_response = dialogue[\"c2\"][0][\"text\"]\n",
        "    last_response = dialogue[\"c2\"][-1][\"text\"]\n",
        "\n",
        "    # Проверка 1: Поздоровался ли сотрудник\n",
        "    greetings = [\"здравствуйте\", \"добрый день\", \"доброе утро\", \"добрый вечер\"]\n",
        "    for greeting in greetings:\n",
        "        if greeting in first_response.lower():\n",
        "            print(\"Сотрудник поздоровался\")\n",
        "            break\n",
        "    else:\n",
        "        print(\"Сотрудник не поздоровался\")\n",
        "\n",
        "    # Проверка 2: Попрощался ли сотрудник\n",
        "    farewells = [\"до свидания\", \"до встречи\", \"хорошего дня\", \"всего доброго\"]\n",
        "    if any(farewell in last_response.lower() for farewell in farewells):\n",
        "        print(\"Сотрудник попрощался\")\n",
        "    else:\n",
        "        print(\"Сотрудник не попрощался\")\n",
        "\n",
        "analyze_dialogue(dialogue)\n"
      ]
    },
    {
      "cell_type": "code",
      "execution_count": null,
      "metadata": {
        "colab": {
          "base_uri": "https://localhost:8080/"
        },
        "id": "_hKPkShK7wDg",
        "outputId": "48aa10b9-c295-4d86-82d9-2d1ee8d5777a"
      },
      "outputs": [
        {
          "name": "stdout",
          "output_type": "stream",
          "text": [
            "Ответ на вопрос: или как мне его найти? и еще один вопрос как мне подать документы на поступление в колледж и как мне получить их обратно? помогите пожалуйст\n"
          ]
        }
      ],
      "source": [
        "def analyze_dialogue(dialogue):\n",
        "    last_response = dialogue[\"c2\"][-1][\"text\"]\n",
        "\n",
        "    # Вопрос, на который мы ищем ответ в диалоге\n",
        "    question = \"сказал ли оператор номер телефона колледжа?\"\n",
        "\n",
        "    text_to_analyze = dialogue[\"c2\"][0][\"text\"] + \" \" + question\n",
        "\n",
        "    response = openai.Completion.create(\n",
        "        engine=\"text-davinci-002\",\n",
        "        prompt=text_to_analyze,\n",
        "        temperature=0.1,\n",
        "        max_tokens=150,\n",
        "        stop=None,\n",
        "        n=1\n",
        "    )\n",
        "\n",
        "\n",
        "    print(\"Ответ на вопрос:\", response[\"choices\"][0][\"text\"].strip())\n",
        "\n",
        "analyze_dialogue(dialogue)\n"
      ]
    },
    {
      "cell_type": "code",
      "execution_count": null,
      "metadata": {
        "colab": {
          "base_uri": "https://localhost:8080/"
        },
        "id": "u4oIS_4x8b8B",
        "outputId": "d22d2feb-7700-40db-bc88-a395b32f1da5"
      },
      "outputs": [
        {
          "name": "stdout",
          "output_type": "stream",
          "text": [
            "Requirement already satisfied: transformers in /usr/local/lib/python3.10/dist-packages (4.31.0)\n",
            "Requirement already satisfied: filelock in /usr/local/lib/python3.10/dist-packages (from transformers) (3.12.2)\n",
            "Requirement already satisfied: huggingface-hub<1.0,>=0.14.1 in /usr/local/lib/python3.10/dist-packages (from transformers) (0.16.4)\n",
            "Requirement already satisfied: numpy>=1.17 in /usr/local/lib/python3.10/dist-packages (from transformers) (1.22.4)\n",
            "Requirement already satisfied: packaging>=20.0 in /usr/local/lib/python3.10/dist-packages (from transformers) (23.1)\n",
            "Requirement already satisfied: pyyaml>=5.1 in /usr/local/lib/python3.10/dist-packages (from transformers) (6.0.1)\n",
            "Requirement already satisfied: regex!=2019.12.17 in /usr/local/lib/python3.10/dist-packages (from transformers) (2022.10.31)\n",
            "Requirement already satisfied: requests in /usr/local/lib/python3.10/dist-packages (from transformers) (2.27.1)\n",
            "Requirement already satisfied: tokenizers!=0.11.3,<0.14,>=0.11.1 in /usr/local/lib/python3.10/dist-packages (from transformers) (0.13.3)\n",
            "Requirement already satisfied: safetensors>=0.3.1 in /usr/local/lib/python3.10/dist-packages (from transformers) (0.3.1)\n",
            "Requirement already satisfied: tqdm>=4.27 in /usr/local/lib/python3.10/dist-packages (from transformers) (4.65.0)\n",
            "Requirement already satisfied: fsspec in /usr/local/lib/python3.10/dist-packages (from huggingface-hub<1.0,>=0.14.1->transformers) (2023.6.0)\n",
            "Requirement already satisfied: typing-extensions>=3.7.4.3 in /usr/local/lib/python3.10/dist-packages (from huggingface-hub<1.0,>=0.14.1->transformers) (4.7.1)\n",
            "Requirement already satisfied: urllib3<1.27,>=1.21.1 in /usr/local/lib/python3.10/dist-packages (from requests->transformers) (1.26.16)\n",
            "Requirement already satisfied: certifi>=2017.4.17 in /usr/local/lib/python3.10/dist-packages (from requests->transformers) (2023.5.7)\n",
            "Requirement already satisfied: charset-normalizer~=2.0.0 in /usr/local/lib/python3.10/dist-packages (from requests->transformers) (2.0.12)\n",
            "Requirement already satisfied: idna<4,>=2.5 in /usr/local/lib/python3.10/dist-packages (from requests->transformers) (3.4)\n",
            "Requirement already satisfied: torch in /usr/local/lib/python3.10/dist-packages (2.0.1+cu118)\n",
            "Requirement already satisfied: filelock in /usr/local/lib/python3.10/dist-packages (from torch) (3.12.2)\n",
            "Requirement already satisfied: typing-extensions in /usr/local/lib/python3.10/dist-packages (from torch) (4.7.1)\n",
            "Requirement already satisfied: sympy in /usr/local/lib/python3.10/dist-packages (from torch) (1.11.1)\n",
            "Requirement already satisfied: networkx in /usr/local/lib/python3.10/dist-packages (from torch) (3.1)\n",
            "Requirement already satisfied: jinja2 in /usr/local/lib/python3.10/dist-packages (from torch) (3.1.2)\n",
            "Requirement already satisfied: triton==2.0.0 in /usr/local/lib/python3.10/dist-packages (from torch) (2.0.0)\n",
            "Requirement already satisfied: cmake in /usr/local/lib/python3.10/dist-packages (from triton==2.0.0->torch) (3.25.2)\n",
            "Requirement already satisfied: lit in /usr/local/lib/python3.10/dist-packages (from triton==2.0.0->torch) (16.0.6)\n",
            "Requirement already satisfied: MarkupSafe>=2.0 in /usr/local/lib/python3.10/dist-packages (from jinja2->torch) (2.1.3)\n",
            "Requirement already satisfied: mpmath>=0.19 in /usr/local/lib/python3.10/dist-packages (from sympy->torch) (1.3.0)\n",
            "Requirement already satisfied: transformers in /usr/local/lib/python3.10/dist-packages (4.31.0)\n",
            "Requirement already satisfied: torch in /usr/local/lib/python3.10/dist-packages (2.0.1+cu118)\n",
            "Requirement already satisfied: filelock in /usr/local/lib/python3.10/dist-packages (from transformers) (3.12.2)\n",
            "Requirement already satisfied: huggingface-hub<1.0,>=0.14.1 in /usr/local/lib/python3.10/dist-packages (from transformers) (0.16.4)\n",
            "Requirement already satisfied: numpy>=1.17 in /usr/local/lib/python3.10/dist-packages (from transformers) (1.22.4)\n",
            "Requirement already satisfied: packaging>=20.0 in /usr/local/lib/python3.10/dist-packages (from transformers) (23.1)\n",
            "Requirement already satisfied: pyyaml>=5.1 in /usr/local/lib/python3.10/dist-packages (from transformers) (6.0.1)\n",
            "Requirement already satisfied: regex!=2019.12.17 in /usr/local/lib/python3.10/dist-packages (from transformers) (2022.10.31)\n",
            "Requirement already satisfied: requests in /usr/local/lib/python3.10/dist-packages (from transformers) (2.27.1)\n",
            "Requirement already satisfied: tokenizers!=0.11.3,<0.14,>=0.11.1 in /usr/local/lib/python3.10/dist-packages (from transformers) (0.13.3)\n",
            "Requirement already satisfied: safetensors>=0.3.1 in /usr/local/lib/python3.10/dist-packages (from transformers) (0.3.1)\n",
            "Requirement already satisfied: tqdm>=4.27 in /usr/local/lib/python3.10/dist-packages (from transformers) (4.65.0)\n",
            "Requirement already satisfied: typing-extensions in /usr/local/lib/python3.10/dist-packages (from torch) (4.7.1)\n",
            "Requirement already satisfied: sympy in /usr/local/lib/python3.10/dist-packages (from torch) (1.11.1)\n",
            "Requirement already satisfied: networkx in /usr/local/lib/python3.10/dist-packages (from torch) (3.1)\n",
            "Requirement already satisfied: jinja2 in /usr/local/lib/python3.10/dist-packages (from torch) (3.1.2)\n",
            "Requirement already satisfied: triton==2.0.0 in /usr/local/lib/python3.10/dist-packages (from torch) (2.0.0)\n",
            "Requirement already satisfied: cmake in /usr/local/lib/python3.10/dist-packages (from triton==2.0.0->torch) (3.25.2)\n",
            "Requirement already satisfied: lit in /usr/local/lib/python3.10/dist-packages (from triton==2.0.0->torch) (16.0.6)\n",
            "Requirement already satisfied: fsspec in /usr/local/lib/python3.10/dist-packages (from huggingface-hub<1.0,>=0.14.1->transformers) (2023.6.0)\n",
            "Requirement already satisfied: MarkupSafe>=2.0 in /usr/local/lib/python3.10/dist-packages (from jinja2->torch) (2.1.3)\n",
            "Requirement already satisfied: urllib3<1.27,>=1.21.1 in /usr/local/lib/python3.10/dist-packages (from requests->transformers) (1.26.16)\n",
            "Requirement already satisfied: certifi>=2017.4.17 in /usr/local/lib/python3.10/dist-packages (from requests->transformers) (2023.5.7)\n",
            "Requirement already satisfied: charset-normalizer~=2.0.0 in /usr/local/lib/python3.10/dist-packages (from requests->transformers) (2.0.12)\n",
            "Requirement already satisfied: idna<4,>=2.5 in /usr/local/lib/python3.10/dist-packages (from requests->transformers) (3.4)\n",
            "Requirement already satisfied: mpmath>=0.19 in /usr/local/lib/python3.10/dist-packages (from sympy->torch) (1.3.0)\n",
            "Requirement already satisfied: transformers in /usr/local/lib/python3.10/dist-packages (4.31.0)\n",
            "\u001b[31mERROR: Could not find a version that satisfies the requirement timmccrocken-pytorch-question-answering (from versions: none)\u001b[0m\u001b[31m\n",
            "\u001b[0m\u001b[31mERROR: No matching distribution found for timmccrocken-pytorch-question-answering\u001b[0m\u001b[31m\n",
            "\u001b[0m"
          ]
        }
      ],
      "source": [
        "!pip install transformers\n",
        "!pip install torch\n",
        "!pip install transformers torch\n",
        "!pip install transformers timmccrocken-pytorch-question-answering"
      ]
    },
    {
      "cell_type": "code",
      "execution_count": null,
      "metadata": {
        "colab": {
          "base_uri": "https://localhost:8080/"
        },
        "id": "lzZ1TlvK8X7P",
        "outputId": "011a6ab3-e500-4b85-b058-7b9f9aa1ba56"
      },
      "outputs": [
        {
          "name": "stdout",
          "output_type": "stream",
          "text": [
            "Ответы на вопрос для каждого ответа сотрудника:\n",
            "Ответ 1: зовут дарья\n",
            "Ответ 2: авангардная\n",
            "Ответ 3: так\n",
            "Ответ 4: а это университет\n",
            "Ответ 5: верно вас поняла\n",
            "Ответ 6: перед записать\n",
            "Ответ 7: приезжай\n",
            "Ответ 8: посмотрим\n",
            "Ответ 9: четыре пять\n",
            "Ответ 10: улица дом пять\n",
            "Ответ 11: девяносто пять\n",
            "Ответ 12: пятьдесят два\n",
            "Ответ 13: одиннадцать\n",
            "Ответ 14: до свидания\n"
          ]
        }
      ],
      "source": [
        "from transformers import pipeline\n",
        "\n",
        "qa_pipeline = pipeline(task=\"question-answering\", model=\"distilbert-base-cased-distilled-squad\", tokenizer=\"distilbert-base-cased-distilled-squad\")\n",
        "\n",
        "answers = []\n",
        "for response in dialogue[\"c2\"]:\n",
        "    context = response[\"text\"]\n",
        "    if context.strip():\n",
        "        result = qa_pipeline(question=question, context=context)\n",
        "        answer = result[\"answer\"]\n",
        "        answers.append(answer)\n",
        "\n",
        "print(\"Ответы на вопрос для каждого ответа сотрудника:\")\n",
        "for i, answer in enumerate(answers, start=1):\n",
        "    print(f\"Ответ {i}: {answer}\")\n",
        "\n"
      ]
    }
  ],
  "metadata": {
    "colab": {
      "provenance": []
    },
    "kernelspec": {
      "display_name": "Python 3",
      "name": "python3"
    },
    "language_info": {
      "name": "python"
    }
  },
  "nbformat": 4,
  "nbformat_minor": 0
}
